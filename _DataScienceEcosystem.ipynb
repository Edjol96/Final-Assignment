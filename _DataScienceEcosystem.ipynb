{
 "cells": [
  {
   "cell_type": "markdown",
   "id": "28ff1de8-2cd3-4e45-834c-f3f35805d0a9",
   "metadata": {},
   "source": [
    "# Data Science Tools and Ecosystem"
   ]
  },
  {
   "cell_type": "markdown",
   "id": "f1301c69-15fe-4f48-83e7-c55a12d10454",
   "metadata": {},
   "source": [
    "In this notebook, Data Science Tools and Ecosystem are summarized."
   ]
  },
  {
   "cell_type": "markdown",
   "id": "c990530f-631d-428a-9341-65ff3cc44ba4",
   "metadata": {},
   "source": [
    "***Objectives:***\n",
    "- Python\n",
    "- Java\n",
    "- C++\n",
    "- Scala\n",
    "- Julia"
   ]
  },
  {
   "cell_type": "markdown",
   "id": "f5595642-6e5a-40f1-8a0b-74e146ac7169",
   "metadata": {},
   "source": [
    "Some of the popular languages that Data Scientists use are:\n",
    "1. Python\n",
    "2. C++\n",
    "3. Java\n",
    "4. Scala\n",
    "5. Julia"
   ]
  },
  {
   "cell_type": "markdown",
   "id": "4aebd03c-2da5-44d7-826c-fdff812c99ef",
   "metadata": {},
   "source": [
    "Some of the commonly used libraries used by Data Scientists include:\n",
    "1. Pandas\n",
    "2. Numpy\n",
    "3. Scikit\n",
    "4. Keras\n",
    "5. Pytorch"
   ]
  },
  {
   "cell_type": "markdown",
   "id": "235a69e4-37ad-454d-8705-5ae30bbafb16",
   "metadata": {},
   "source": [
    "|Number|Data Science Tools|\n",
    "|------|--------------|\n",
    "|1. | Spyder |\n",
    "|2.| Jypiter |\n",
    "|3. | RStudio | "
   ]
  },
  {
   "cell_type": "markdown",
   "id": "ffa9a2da-656a-416c-81da-f16ab5ef1f80",
   "metadata": {},
   "source": [
    "### Below are a few examples of evaluating arithmetic expressions in Python\n"
   ]
  },
  {
   "cell_type": "markdown",
   "id": "7899b25f-7df8-4ab5-a3e8-de3f1042a4b6",
   "metadata": {},
   "source": [
    "This a simple arithmetic expression to multiply then add integers:\n"
   ]
  },
  {
   "cell_type": "code",
   "execution_count": 5,
   "id": "56fd1df8-8995-4ff8-a219-031ba186f209",
   "metadata": {},
   "outputs": [
    {
     "data": {
      "text/plain": [
       "17"
      ]
     },
     "execution_count": 5,
     "metadata": {},
     "output_type": "execute_result"
    }
   ],
   "source": [
    "(3*4)+5"
   ]
  },
  {
   "cell_type": "markdown",
   "id": "770d33eb-21ed-473d-b86d-3c385c7a99cd",
   "metadata": {},
   "source": [
    "This will convert 200 minutes to hours by dividing by 60:"
   ]
  },
  {
   "cell_type": "code",
   "execution_count": 22,
   "id": "3d992a3f-2210-469f-8ab0-f46dd6d3e113",
   "metadata": {},
   "outputs": [
    {
     "data": {
      "text/plain": [
       "3.3333333333333335"
      ]
     },
     "execution_count": 22,
     "metadata": {},
     "output_type": "execute_result"
    }
   ],
   "source": [
    "200/60"
   ]
  },
  {
   "cell_type": "markdown",
   "id": "3cb8990a-c796-41fe-93c6-10c3ede4efba",
   "metadata": {},
   "source": [
    "Thus, the obtained time is 3.33 hours"
   ]
  },
  {
   "cell_type": "markdown",
   "id": "3504720c-2c26-4f53-bb3d-e8d544d73770",
   "metadata": {},
   "source": [
    "## Author\n",
    "Đorđe Antić"
   ]
  },
  {
   "cell_type": "code",
   "execution_count": null,
   "id": "cc23cadd-2b19-4b29-95ef-9a250307f519",
   "metadata": {},
   "outputs": [],
   "source": []
  }
 ],
 "metadata": {
  "kernelspec": {
   "display_name": "Python 3 (ipykernel)",
   "language": "python",
   "name": "python3"
  },
  "language_info": {
   "codemirror_mode": {
    "name": "ipython",
    "version": 3
   },
   "file_extension": ".py",
   "mimetype": "text/x-python",
   "name": "python",
   "nbconvert_exporter": "python",
   "pygments_lexer": "ipython3",
   "version": "3.12.7"
  }
 },
 "nbformat": 4,
 "nbformat_minor": 5
}
